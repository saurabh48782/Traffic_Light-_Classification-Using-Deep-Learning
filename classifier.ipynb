{
 "cells": [
  {
   "cell_type": "markdown",
   "metadata": {},
   "source": [
    "### Importing important libraries"
   ]
  },
  {
   "cell_type": "code",
   "execution_count": 12,
   "metadata": {},
   "outputs": [],
   "source": [
    "import numpy as np\n",
    "from matplotlib import pyplot as plt\n",
    "import cv2\n",
    "import pickle\n",
    "from sklearn.model_selection import train_test_split\n",
    "\n",
    "# For one hot encoding\n",
    "from sklearn.preprocessing import LabelBinarizer\n",
    "\n",
    "# For making CNNs\n",
    "from keras.models import Sequential\n",
    "from keras.layers import *\n",
    "from keras.models import load_model\n",
    "\n",
    "# For ignoring warnings\n",
    "import warnings\n",
    "warnings.filterwarnings('ignore')\n"
   ]
  },
  {
   "cell_type": "markdown",
   "metadata": {},
   "source": [
    "### Designing of CNN model"
   ]
  },
  {
   "cell_type": "code",
   "execution_count": 21,
   "metadata": {},
   "outputs": [],
   "source": [
    "# Making a Convolutional Neural Network\n",
    "def CNNetwork():\n",
    "    \n",
    "    model = Sequential()\n",
    "    model.add(Conv2D(32,(3,3),activation='relu',input_shape=(32,32,3)))\n",
    "    model.add(MaxPool2D((2,2)))\n",
    "    model.add(Dropout(0.5))\n",
    "    model.add(Conv2D(64,(3,3),activation='relu'))\n",
    "    model.add(MaxPool2D((2,2)))\n",
    "    model.add(Dropout(0.4))\n",
    "    model.add(Conv2D(64,(3,3),activation='relu'))\n",
    "    model.add(MaxPool2D((2,2)))\n",
    "    model.add(Dropout(0.3))\n",
    "    model.add(Flatten())\n",
    "    model.add(Dense(64,activation='relu'))\n",
    "    model.add(Dense(4,activation='softmax'))\n",
    "    \n",
    "    return model\n",
    "\n",
    "\n",
    "def train_model(Training_data, model):\n",
    "    # Reading my Training dataset\n",
    "    x_,y_ = pickle.load( open(Training_data, \"rb\" ) )\n",
    "    # Training dataset has 9259 samples\n",
    "    print(x_.shape,y_.shape)\n",
    "    \n",
    "    # Preprocessing of data\n",
    "    x_ = np.array(x_ / 255.0 - 0.5)\n",
    "    \n",
    "    # LabelBinarizer() method from sklearn.preprocessing module binarizes our labels using One-vs-All approach\n",
    "    binarized_label = LabelBinarizer()\n",
    "    \n",
    "    # fit_transfrom() method transforms multi-class labels into binary labels\n",
    "    # Y_train_labels is a one-hot-encoded training labels\n",
    "    y_ = binarized_label.fit_transform(y_)\n",
    "    \n",
    "    # model.summary() prints a string summary of the network.\n",
    "    model.summary()\n",
    "\n",
    "    model.compile('adam', loss='categorical_crossentropy', metrics=['accuracy'])\n",
    "    \n",
    "    # model.fit() trains the model for a fixed number of epochs (iterations on a dataset).\n",
    "    hist = model.fit(x_, y_, epochs=7, validation_split=0.2)\n",
    "    \n",
    "    # summarizing history for accuracy\n",
    "    plt.figure(figsize=(10,6))\n",
    "    plt.plot(hist.history['accuracy'])\n",
    "    plt.plot(hist.history['val_accuracy'])\n",
    "    plt.title('model accuracy')\n",
    "    plt.ylabel('accuracy')\n",
    "    plt.xlabel('epoch')\n",
    "    plt.legend(['train', 'validation'], loc='upper left')\n",
    "    plt.show()\n",
    "    # summarizing history for loss\n",
    "    plt.figure(figsize=(10,6))\n",
    "    plt.plot(hist.history['loss'])\n",
    "    plt.plot(hist.history['val_loss'])\n",
    "    plt.title('model loss')\n",
    "    plt.ylabel('loss')\n",
    "    plt.xlabel('epoch')\n",
    "    plt.legend(['train', 'validation'], loc='upper left')\n",
    "    plt.show()\n",
    "    \n",
    "    # Saving my model in 'model.h5' file\n",
    "    model.save('model.h5')\n",
    "    return hist\n"
   ]
  },
  {
   "cell_type": "code",
   "execution_count": 22,
   "metadata": {},
   "outputs": [
    {
     "name": "stdout",
     "output_type": "stream",
     "text": [
      "(9259, 32, 32, 3) (9259,)\n",
      "Model: \"sequential_8\"\n",
      "_________________________________________________________________\n",
      "Layer (type)                 Output Shape              Param #   \n",
      "=================================================================\n",
      "conv2d_25 (Conv2D)           (None, 30, 30, 32)        896       \n",
      "_________________________________________________________________\n",
      "max_pooling2d_22 (MaxPooling (None, 15, 15, 32)        0         \n",
      "_________________________________________________________________\n",
      "dropout_22 (Dropout)         (None, 15, 15, 32)        0         \n",
      "_________________________________________________________________\n",
      "conv2d_26 (Conv2D)           (None, 13, 13, 64)        18496     \n",
      "_________________________________________________________________\n",
      "max_pooling2d_23 (MaxPooling (None, 6, 6, 64)          0         \n",
      "_________________________________________________________________\n",
      "dropout_23 (Dropout)         (None, 6, 6, 64)          0         \n",
      "_________________________________________________________________\n",
      "conv2d_27 (Conv2D)           (None, 4, 4, 64)          36928     \n",
      "_________________________________________________________________\n",
      "max_pooling2d_24 (MaxPooling (None, 2, 2, 64)          0         \n",
      "_________________________________________________________________\n",
      "dropout_24 (Dropout)         (None, 2, 2, 64)          0         \n",
      "_________________________________________________________________\n",
      "flatten_5 (Flatten)          (None, 256)               0         \n",
      "_________________________________________________________________\n",
      "dense_9 (Dense)              (None, 64)                16448     \n",
      "_________________________________________________________________\n",
      "dense_10 (Dense)             (None, 4)                 260       \n",
      "=================================================================\n",
      "Total params: 73,028\n",
      "Trainable params: 73,028\n",
      "Non-trainable params: 0\n",
      "_________________________________________________________________\n",
      "Train on 7407 samples, validate on 1852 samples\n",
      "Epoch 1/7\n",
      "7407/7407 [==============================] - 19s 3ms/step - loss: 0.3569 - accuracy: 0.8731 - val_loss: 0.1823 - val_accuracy: 0.9455\n",
      "Epoch 2/7\n",
      "7407/7407 [==============================] - 18s 2ms/step - loss: 0.2092 - accuracy: 0.9286 - val_loss: 0.1525 - val_accuracy: 0.9482\n",
      "Epoch 3/7\n",
      "7407/7407 [==============================] - 18s 2ms/step - loss: 0.1928 - accuracy: 0.9311 - val_loss: 0.2095 - val_accuracy: 0.9325\n",
      "Epoch 4/7\n",
      "7407/7407 [==============================] - 19s 3ms/step - loss: 0.1862 - accuracy: 0.9349 - val_loss: 0.1597 - val_accuracy: 0.9438\n",
      "Epoch 5/7\n",
      "7407/7407 [==============================] - 20s 3ms/step - loss: 0.1774 - accuracy: 0.9375 - val_loss: 0.1724 - val_accuracy: 0.9438\n",
      "Epoch 6/7\n",
      "7407/7407 [==============================] - 18s 2ms/step - loss: 0.1724 - accuracy: 0.9398 - val_loss: 0.1344 - val_accuracy: 0.9498\n",
      "Epoch 7/7\n",
      "7407/7407 [==============================] - 16s 2ms/step - loss: 0.1706 - accuracy: 0.9374 - val_loss: 0.1373 - val_accuracy: 0.9519\n"
     ]
    },
    {
     "data": {
      "image/png": "[encoded data removed]",
      "text/plain": [
       "<Figure size 720x432 with 1 Axes>"
      ]
     },
     "metadata": {
      "needs_background": "light"
     },
     "output_type": "display_data"
    },
    {
     "data": {
      "image/png": "[encoded data removed]",
      "text/plain": [
       "<Figure size 720x432 with 1 Axes>"
      ]
     },
     "metadata": {
      "needs_background": "light"
     },
     "output_type": "display_data"
    },
    {
     "data": {
      "text/plain": [
       "<keras.callbacks.callbacks.History at 0x1e03656e788>"
      ]
     },
     "execution_count": 22,
     "metadata": {},
     "output_type": "execute_result"
    }
   ],
   "source": [
    "model = CNNetwork()\n",
    "Training_set = \"./datasets/Train_Dataset.p\"\n",
    "Testing_set = \"./datasets/Test_Dataset.p\"\n",
    "\n",
    "# Training my CNN Model\n",
    "train_model(Training_set, model)"
   ]
  },
  {
   "cell_type": "markdown",
   "metadata": {},
   "source": [
    "### Testing our model on test set"
   ]
  },
  {
   "cell_type": "code",
   "execution_count": 23,
   "metadata": {},
   "outputs": [],
   "source": [
    "def test_model(file_path, model):\n",
    "    \n",
    "    # Reading my testing dataset\n",
    "    X_test,Y_test = pickle.load( open(file_path, \"rb\" ) )\n",
    "    \n",
    "    # There are 1030 samples in test dataset\n",
    "    print(X_test.shape,Y_test.shape)\n",
    "    \n",
    "    ## Preprocessing of testing data\n",
    "    \n",
    "    X_test = np.array(X_test / 255.0 - 0.5 )\n",
    "    \n",
    "    # LabelBinarizer() method from sklearn.preprocessing module binarizes our labels using One-vs-All approach\n",
    "    binarizered_label = LabelBinarizer()\n",
    "    # binarizered_label.fit_transform() method fits label binarizer and transforms multi-class labels to binary labels.\n",
    "    Y_test = binarizered_label.fit_transform(Y_test)\n",
    "\n",
    "    print(\"\\n\\n----------Testing my Model----------------\")\n",
    "    \n",
    "    # model.evaluate() method returns the loss value & metrics values for the model in testing phase.\n",
    "    metrics = model.evaluate(X_test, Y_test)\n",
    "    for i in range(len(model.metrics_names)):\n",
    "        metric_name = model.metrics_names[i]\n",
    "        metric_value = metrics[i]\n",
    "        # Prints metrics like loss and accuraxy\n",
    "        print('{}: {}'.format(metric_name, metric_value))\n"
   ]
  },
  {
   "cell_type": "code",
   "execution_count": 24,
   "metadata": {},
   "outputs": [
    {
     "name": "stdout",
     "output_type": "stream",
     "text": [
      "(1030, 32, 32, 3) (1030,)\n",
      "\n",
      "\n",
      "----------Testing my Model----------------\n",
      "1030/1030 [==============================] - 1s 933us/step\n",
      "loss: 0.1635629724638844\n",
      "accuracy: 0.946601927280426\n"
     ]
    }
   ],
   "source": [
    "# Testing my CNN Model\n",
    "test_model(Testing_set, model=load_model('model.h5'))"
   ]
  },
  {
   "cell_type": "markdown",
   "metadata": {},
   "source": [
    "### Testing a sample image"
   ]
  },
  {
   "cell_type": "code",
   "execution_count": 25,
   "metadata": {},
   "outputs": [],
   "source": [
    "def test_sample_img(file_path, model):\n",
    "    \n",
    "    # Firstly, resizing the input image to [32,32,3] shape and then feeding it into neural network\n",
    "\n",
    "    desired_dim=(32,32)\n",
    "    img = cv2.imread(file_path)\n",
    "    resized_img = cv2.resize(img, desired_dim, interpolation=cv2.INTER_LINEAR)\n",
    "    img_ = np.expand_dims(np.array(resized_img), axis=0)\n",
    "    \n",
    "    # Predicting the class of the input sample image\n",
    "    predicted_state = model.predict_classes(img_)\n",
    "\n",
    "    return predicted_state"
   ]
  },
  {
   "cell_type": "code",
   "execution_count": 29,
   "metadata": {},
   "outputs": [
    {
     "name": "stdout",
     "output_type": "stream",
     "text": [
      "Colour inferred from the sample image is:  red\n"
     ]
    }
   ],
   "source": [
    "# Testing a single image (any random traffic light image) after training our dataset\n",
    "\n",
    "flag = True\n",
    "file_path = './datasets/red.jpg'\n",
    "states = ['red', 'yellow', 'green', 'off']\n",
    "if flag:\n",
    "    predicted_state = test_sample_img(file_path, model=load_model('model.h5'))\n",
    "    for idx in predicted_state:\n",
    "        print(\"Colour inferred from the sample image is: \", states[idx])"
   ]
  },
  {
   "cell_type": "code",
   "execution_count": null,
   "metadata": {},
   "outputs": [],
   "source": []
  }
 ],
 "metadata": {
  "kernelspec": {
   "display_name": "Python 3",
   "language": "python",
   "name": "python3"
  },
  "language_info": {
   "codemirror_mode": {
    "name": "ipython",
    "version": 3
   },
   "file_extension": ".py",
   "mimetype": "text/x-python",
   "name": "python",
   "nbconvert_exporter": "python",
   "pygments_lexer": "ipython3",
   "version": "3.7.8"
  }
 },
 "nbformat": 4,
 "nbformat_minor": 4
}
